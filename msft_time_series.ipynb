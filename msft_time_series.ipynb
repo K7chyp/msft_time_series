{
  "nbformat": 4,
  "nbformat_minor": 0,
  "metadata": {
    "colab": {
      "name": "msft time series",
      "provenance": [],
      "collapsed_sections": [],
      "authorship_tag": "ABX9TyNBYO21NrKKWDOJ/6445aWi"
    },
    "kernelspec": {
      "name": "python3",
      "display_name": "Python 3"
    }
  },
  "cells": [
    {
      "cell_type": "code",
      "metadata": {
        "id": "uxlrnhno55b8"
      },
      "source": [
        "# !pip install yfinance\r\n",
        "import numpy as np\r\n",
        "import pandas as pd\r\n",
        "import yfinance as yf"
      ],
      "execution_count": null,
      "outputs": []
    },
    {
      "cell_type": "code",
      "metadata": {
        "colab": {
          "base_uri": "https://localhost:8080/"
        },
        "id": "pvW7vyW458k5",
        "outputId": "129ccae1-2243-4208-a03d-80f96842b318"
      },
      "source": [
        "df_msft = yf.download('MSFT',\r\n",
        "                    period = 'max',\r\n",
        "                    interval = '1d',\r\n",
        "                    progress=True)\r\n"
      ],
      "execution_count": null,
      "outputs": [
        {
          "output_type": "stream",
          "text": [
            "\r[*********************100%***********************]  1 of 1 completed\n"
          ],
          "name": "stdout"
        }
      ]
    },
    {
      "cell_type": "code",
      "metadata": {
        "colab": {
          "base_uri": "https://localhost:8080/",
          "height": 450
        },
        "id": "yVi9PXVy9OGr",
        "outputId": "9c07ac67-0d72-4a92-b55e-1334ef0210b4"
      },
      "source": [
        "df_msft"
      ],
      "execution_count": null,
      "outputs": [
        {
          "output_type": "execute_result",
          "data": {
            "text/html": [
              "<div>\n",
              "<style scoped>\n",
              "    .dataframe tbody tr th:only-of-type {\n",
              "        vertical-align: middle;\n",
              "    }\n",
              "\n",
              "    .dataframe tbody tr th {\n",
              "        vertical-align: top;\n",
              "    }\n",
              "\n",
              "    .dataframe thead th {\n",
              "        text-align: right;\n",
              "    }\n",
              "</style>\n",
              "<table border=\"1\" class=\"dataframe\">\n",
              "  <thead>\n",
              "    <tr style=\"text-align: right;\">\n",
              "      <th></th>\n",
              "      <th>Open</th>\n",
              "      <th>High</th>\n",
              "      <th>Low</th>\n",
              "      <th>Close</th>\n",
              "      <th>Adj Close</th>\n",
              "      <th>Volume</th>\n",
              "    </tr>\n",
              "    <tr>\n",
              "      <th>Date</th>\n",
              "      <th></th>\n",
              "      <th></th>\n",
              "      <th></th>\n",
              "      <th></th>\n",
              "      <th></th>\n",
              "      <th></th>\n",
              "    </tr>\n",
              "  </thead>\n",
              "  <tbody>\n",
              "    <tr>\n",
              "      <th>1986-03-13</th>\n",
              "      <td>0.088542</td>\n",
              "      <td>0.101563</td>\n",
              "      <td>0.088542</td>\n",
              "      <td>0.097222</td>\n",
              "      <td>0.061751</td>\n",
              "      <td>1031788800</td>\n",
              "    </tr>\n",
              "    <tr>\n",
              "      <th>1986-03-14</th>\n",
              "      <td>0.097222</td>\n",
              "      <td>0.102431</td>\n",
              "      <td>0.097222</td>\n",
              "      <td>0.100694</td>\n",
              "      <td>0.063956</td>\n",
              "      <td>308160000</td>\n",
              "    </tr>\n",
              "    <tr>\n",
              "      <th>1986-03-17</th>\n",
              "      <td>0.100694</td>\n",
              "      <td>0.103299</td>\n",
              "      <td>0.100694</td>\n",
              "      <td>0.102431</td>\n",
              "      <td>0.065059</td>\n",
              "      <td>133171200</td>\n",
              "    </tr>\n",
              "    <tr>\n",
              "      <th>1986-03-18</th>\n",
              "      <td>0.102431</td>\n",
              "      <td>0.103299</td>\n",
              "      <td>0.098958</td>\n",
              "      <td>0.099826</td>\n",
              "      <td>0.063405</td>\n",
              "      <td>67766400</td>\n",
              "    </tr>\n",
              "    <tr>\n",
              "      <th>1986-03-19</th>\n",
              "      <td>0.099826</td>\n",
              "      <td>0.100694</td>\n",
              "      <td>0.097222</td>\n",
              "      <td>0.098090</td>\n",
              "      <td>0.062302</td>\n",
              "      <td>47894400</td>\n",
              "    </tr>\n",
              "    <tr>\n",
              "      <th>...</th>\n",
              "      <td>...</td>\n",
              "      <td>...</td>\n",
              "      <td>...</td>\n",
              "      <td>...</td>\n",
              "      <td>...</td>\n",
              "      <td>...</td>\n",
              "    </tr>\n",
              "    <tr>\n",
              "      <th>2021-02-12</th>\n",
              "      <td>243.929993</td>\n",
              "      <td>245.300003</td>\n",
              "      <td>242.729996</td>\n",
              "      <td>244.990005</td>\n",
              "      <td>244.427048</td>\n",
              "      <td>16552000</td>\n",
              "    </tr>\n",
              "    <tr>\n",
              "      <th>2021-02-16</th>\n",
              "      <td>245.029999</td>\n",
              "      <td>246.130005</td>\n",
              "      <td>242.919998</td>\n",
              "      <td>243.699997</td>\n",
              "      <td>243.139999</td>\n",
              "      <td>26708200</td>\n",
              "    </tr>\n",
              "    <tr>\n",
              "      <th>2021-02-17</th>\n",
              "      <td>241.320007</td>\n",
              "      <td>244.309998</td>\n",
              "      <td>240.940002</td>\n",
              "      <td>244.199997</td>\n",
              "      <td>244.199997</td>\n",
              "      <td>21653500</td>\n",
              "    </tr>\n",
              "    <tr>\n",
              "      <th>2021-02-18</th>\n",
              "      <td>241.800003</td>\n",
              "      <td>243.929993</td>\n",
              "      <td>240.860001</td>\n",
              "      <td>243.789993</td>\n",
              "      <td>243.789993</td>\n",
              "      <td>16910900</td>\n",
              "    </tr>\n",
              "    <tr>\n",
              "      <th>2021-02-19</th>\n",
              "      <td>243.750000</td>\n",
              "      <td>243.860001</td>\n",
              "      <td>240.179993</td>\n",
              "      <td>240.970001</td>\n",
              "      <td>240.970001</td>\n",
              "      <td>25216700</td>\n",
              "    </tr>\n",
              "  </tbody>\n",
              "</table>\n",
              "<p>8807 rows × 6 columns</p>\n",
              "</div>"
            ],
            "text/plain": [
              "                  Open        High  ...   Adj Close      Volume\n",
              "Date                                ...                        \n",
              "1986-03-13    0.088542    0.101563  ...    0.061751  1031788800\n",
              "1986-03-14    0.097222    0.102431  ...    0.063956   308160000\n",
              "1986-03-17    0.100694    0.103299  ...    0.065059   133171200\n",
              "1986-03-18    0.102431    0.103299  ...    0.063405    67766400\n",
              "1986-03-19    0.099826    0.100694  ...    0.062302    47894400\n",
              "...                ...         ...  ...         ...         ...\n",
              "2021-02-12  243.929993  245.300003  ...  244.427048    16552000\n",
              "2021-02-16  245.029999  246.130005  ...  243.139999    26708200\n",
              "2021-02-17  241.320007  244.309998  ...  244.199997    21653500\n",
              "2021-02-18  241.800003  243.929993  ...  243.789993    16910900\n",
              "2021-02-19  243.750000  243.860001  ...  240.970001    25216700\n",
              "\n",
              "[8807 rows x 6 columns]"
            ]
          },
          "metadata": {
            "tags": []
          },
          "execution_count": 81
        }
      ]
    },
    {
      "cell_type": "code",
      "metadata": {
        "id": "C0b-e37W7kqI"
      },
      "source": [
        "class Metrics:\r\n",
        "\r\n",
        "    def __init__(self, dataframe):\r\n",
        "        self.dataframe = dataframe.copy()\r\n",
        "\r\n",
        "    def get_min_max(self, column):\r\n",
        "        return min(self.dataframe[column].to_list()), max(\r\n",
        "            self.dataframe[column].to_list()\r\n",
        "        )\r\n",
        "\r\n",
        "    def get_average(self, column):\r\n",
        "        sum_ = 0\r\n",
        "        for value in self.dataframe[column]:\r\n",
        "            sum_ = value\r\n",
        "        return sum_ / len(self.dataframe)\r\n",
        "\r\n",
        "    def more_less_avg(self, column):\r\n",
        "\r\n",
        "        avg = self.get_average(column)\r\n",
        "        more_than_avg = 0\r\n",
        "        less_than_avg = 0\r\n",
        "\r\n",
        "        for value in self.dataframe[column].to_list():\r\n",
        "            if value >= avg:\r\n",
        "                more_than_avg = 1\r\n",
        "            else:\r\n",
        "                less_than_avg = 1\r\n",
        "\r\n",
        "        return more_than_avg, less_than_avg\r\n",
        "    \r\n",
        "    def get_mode(self, column):\r\n",
        "\r\n",
        "        mode_ = max(\r\n",
        "            set(self.dataframe[column].to_list()),\r\n",
        "            key=self.dataframe[column].to_list().count,\r\n",
        "        )\r\n",
        "\r\n",
        "        return mode_\r\n",
        "\r\n",
        "    def get_stat(self, column):\r\n",
        "\r\n",
        "        min_, max_ = self.get_min_max(column)\r\n",
        "        avg_ = self.get_average(column)\r\n",
        "        mta, lta = self.more_less_avg(column)\r\n",
        "        mode_ = self.get_mode(column)\r\n",
        "\r\n",
        "        return print(\r\n",
        "            f\"Minimum {min_}\",\r\n",
        "            f\"Maximum {max_}\",\r\n",
        "            f\"Average {avg_}\",\r\n",
        "            f\"Mode {mode_} \",\r\n",
        "            f\"More than average {mta}\",\r\n",
        "            f\"Less than averange {lta} \",\r\n",
        "            sep=\"\\n\",\r\n",
        "        )\r\n"
      ],
      "execution_count": null,
      "outputs": []
    },
    {
      "cell_type": "code",
      "metadata": {
        "colab": {
          "base_uri": "https://localhost:8080/"
        },
        "id": "mngmvNsSDibl",
        "outputId": "50d7e8f3-d261-4ebd-d386-90f702464f7c"
      },
      "source": [
        "metrics = Metrics(df_msft)\r\n",
        "metrics.get_stat('Low')"
      ],
      "execution_count": null,
      "outputs": [
        {
          "output_type": "stream",
          "text": [
            "Minimum 0.08854199945926666\n",
            "Maximum 242.9199981689453\n",
            "Average 0.02727148775698663\n",
            "Mode 25.5 \n",
            "More than average 1\n",
            "Less than averange 0 \n"
          ],
          "name": "stdout"
        }
      ]
    },
    {
      "cell_type": "code",
      "metadata": {
        "id": "kKah8qPAgcGK"
      },
      "source": [
        "class Errors():\r\n",
        "  pass "
      ],
      "execution_count": null,
      "outputs": []
    },
    {
      "cell_type": "code",
      "metadata": {
        "id": "JEJMKYkHEPvo"
      },
      "source": [
        "class Preprocessing():\r\n",
        "\r\n",
        "  def  __init__(self, dataframe): \r\n",
        "    self.dataframe = dataframe.copy()\r\n",
        "  \r\n",
        "  def moving_average(self, column, count): \r\n",
        "    return np.average(self.dataframe[column][-count:])\r\n"
      ],
      "execution_count": null,
      "outputs": []
    },
    {
      "cell_type": "code",
      "metadata": {
        "id": "behHoBPzde8h"
      },
      "source": [
        "class Visualisation(Metrics, Preprocessing):\r\n",
        "  \r\n",
        "    def plot_more_less_avg(self):\r\n",
        "\r\n",
        "        more_than_avg, less_than_avg = self.more_less_avg()\r\n",
        "\r\n",
        "        labels = [\"More than average\", \"Less than average\"]\r\n",
        "        values = [more_than_avg, less_than_avg]\r\n",
        "\r\n",
        "        fig = go.Figure(data=[go.Pie(labels=labels, values=values)])\r\n",
        "\r\n",
        "        return fig.show()\r\n",
        "\r\n",
        "    def plot_hist(self, column):\r\n",
        "        plt.hist(self.dataframe[column], 5, color=\"Blue\")\r\n",
        "        plt.title(column)\r\n",
        "        return plt.show()\r\n",
        "\r\n",
        "    def plot_common_hist(self):\r\n",
        "        for column in self.dataframe.columns.to_list():\r\n",
        "            self.plot_hist(column)\r\n",
        "\r\n",
        "    def plot_graphs(self):\r\n",
        "\r\n",
        "        for column in self.dataframe.columns.to_list():\r\n",
        "            plt.plot(self.dataframe[column])\r\n",
        "            plt.ylabel(column)\r\n",
        "            plt.show()\r\n",
        "\r\n",
        "    def plot_moving_average(self, column, window):\r\n",
        "\r\n",
        "      rolling_mean = self.dataframe[column].rolling_mean(window=window).mean()\r\n",
        "\r\n",
        "      plt.figure(figsize=(15,5))\r\n",
        "      plt.title(\"Moving average\\n window size = {}\".format(window))\r\n",
        "      plt.plot(rolling_mean, \"g\", label=\"Rolling mean trend\")\r\n",
        "      \r\n",
        "      if plot_intervals:\r\n",
        "        \r\n",
        "        mae = mean_absolute_error(series[window:], rolling_mean[window:])\r\n",
        "        deviation = np.std(series[window:] - rolling_mean[window:])\r\n",
        "        lower_bond = rolling_mean - (mae + scale * deviation)\r\n",
        "        upper_bond = rolling_mean + (mae + scale * deviation)\r\n",
        "        plt.plot(upper_bond, \"r--\", label=\"Upper Bond / Lower Bond\")\r\n",
        "        plt.plot(lower_bond, \"r--\")\r\n",
        "        \r\n",
        "        # Having the intervals, find abnormal values\r\n",
        "        if plot_anomalies:\r\n",
        "            anomalies = pd.DataFrame(index=series.index, columns=series.columns)\r\n",
        "            anomalies[series<lower_bond] = series[series<lower_bond]\r\n",
        "            anomalies[series>upper_bond] = series[series>upper_bond]\r\n",
        "            plt.plot(anomalies, \"ro\", markersize=10)\r\n",
        "        \r\n",
        "      plt.plot(series[window:], label=\"Actual values\")\r\n",
        "      plt.legend(loc=\"upper left\")\r\n",
        "      plt.grid(True)\r\n"
      ],
      "execution_count": null,
      "outputs": []
    },
    {
      "cell_type": "code",
      "metadata": {
        "colab": {
          "base_uri": "https://localhost:8080/"
        },
        "id": "y4cDrG7ILpC8",
        "outputId": "51a34b31-8a7e-434d-e189-30394f50e8c8"
      },
      "source": [
        "preproc = Preprocessing(df_msft)\r\n",
        "preproc.moving_average('Low', 5) "
      ],
      "execution_count": null,
      "outputs": [
        {
          "output_type": "execute_result",
          "data": {
            "text/plain": [
              "241.5259979248047"
            ]
          },
          "metadata": {
            "tags": []
          },
          "execution_count": 91
        }
      ]
    },
    {
      "cell_type": "code",
      "metadata": {
        "id": "EPo2eGXQchk1"
      },
      "source": [
        ""
      ],
      "execution_count": null,
      "outputs": []
    }
  ]
}